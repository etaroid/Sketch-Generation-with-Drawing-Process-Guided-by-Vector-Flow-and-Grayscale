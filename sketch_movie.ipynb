{
  "nbformat": 4,
  "nbformat_minor": 0,
  "metadata": {
    "colab": {
      "name": "sketch_movie",
      "provenance": [],
      "include_colab_link": true
    },
    "kernelspec": {
      "display_name": "Python 3",
      "language": "python",
      "name": "python3"
    },
    "language_info": {
      "codemirror_mode": {
        "name": "ipython",
        "version": 3
      },
      "file_extension": ".py",
      "mimetype": "text/x-python",
      "name": "python",
      "nbconvert_exporter": "python",
      "pygments_lexer": "ipython3",
      "version": "3.7.9"
    }
  },
  "cells": [
    {
      "cell_type": "markdown",
      "metadata": {
        "id": "view-in-github",
        "colab_type": "text"
      },
      "source": [
        "<a href=\"https://colab.research.google.com/github/cedro3/Sketch-Generation-with-Drawing-Process-Guided-by-Vector-Flow-and-Grayscale/blob/main/sketch_movie.ipynb\" target=\"_parent\"><img src=\"https://colab.research.google.com/assets/colab-badge.svg\" alt=\"Open In Colab\"/></a>"
      ]
    },
    {
      "cell_type": "markdown",
      "metadata": {
        "id": "x-qhLXg0tCNj"
      },
      "source": [
        "# セットアップ"
      ]
    },
    {
      "cell_type": "code",
      "metadata": {
        "id": "lRmfEjSOz5XP"
      },
      "source": [
        "# githubからコードをコピー\n",
        "!git clone https://github.com/cedro3/Sketch-Generation-with-Drawing-Process-Guided-by-Vector-Flow-and-Grayscale.git\n",
        "%cd Sketch-Generation-with-Drawing-Process-Guided-by-Vector-Flow-and-Grayscale"
      ],
      "execution_count": null,
      "outputs": []
    },
    {
      "cell_type": "markdown",
      "metadata": {
        "id": "j7qPY1YDCfPD"
      },
      "source": [
        "## ビデオから静止画を切り出し\n",
        "・video_file =  でビデオを指定"
      ]
    },
    {
      "cell_type": "code",
      "metadata": {
        "id": "L8sqM9xtG3Sk"
      },
      "source": [
        "import os\n",
        "import shutil\n",
        "import cv2\n",
        "\n",
        "# imagesフォルダーリセット\n",
        "if os.path.isdir('input'):\n",
        "    shutil.rmtree('input') \n",
        "os.makedirs('input', exist_ok=True)\n",
        "\n",
        "# ビデオから静止画を切り出す関数 \n",
        "def video_2_images(video_file= './movie.mp4', \n",
        "                   image_dir='./input/', \n",
        "                   image_file='%s.png'):\n",
        " \n",
        "    # Initial setting\n",
        "    i = 0\n",
        "    interval = 3\n",
        "    length = 300 # リミッター\n",
        "    \n",
        "    cap = cv2.VideoCapture(video_file)\n",
        "    while(cap.isOpened()):\n",
        "        flag, frame = cap.read()  \n",
        "        if flag == False:  \n",
        "                break\n",
        "        if i == length*interval:\n",
        "                break\n",
        "        if i % interval == 0:    \n",
        "           cv2.imwrite(image_dir+image_file % str(int(i/interval)).zfill(6), frame)\n",
        "        i += 1 \n",
        "    cap.release()  \n",
        "\n",
        "video_2_images()"
      ],
      "execution_count": null,
      "outputs": []
    },
    {
      "cell_type": "markdown",
      "metadata": {
        "id": "LbtRUSbPHshh"
      },
      "source": [
        "## 静止画をスケッチ画に変換"
      ]
    },
    {
      "cell_type": "code",
      "metadata": {
        "id": "YvIhbwDPH2Rt"
      },
      "source": [
        "from draw import *\n",
        "from PIL import Image\n",
        "import os\n",
        "\n",
        "# output フォルダーリセット\n",
        "if os.path.isdir('output'):\n",
        "    shutil.rmtree('output') \n",
        "os.makedirs('output', exist_ok=True)\n",
        "\n",
        "files = os.listdir('./input')\n",
        "files.sort()\n",
        "num = len(files)\n",
        "print('total = ', num)\n",
        "\n",
        "n=10\n",
        "period=5\n",
        "for file in files:\n",
        "  file_name = file\n",
        "  draw(file_name, n, period)"
      ],
      "execution_count": null,
      "outputs": []
    },
    {
      "cell_type": "markdown",
      "metadata": {
        "id": "AFwNLqPwJCUf"
      },
      "source": [
        "## モノクロ動画の作成"
      ]
    },
    {
      "cell_type": "code",
      "metadata": {
        "id": "SCaGT9-1NP-S"
      },
      "source": [
        "# スケッチ画を集約（モノクロ）\n",
        "import os\n",
        "import shutil\n",
        "\n",
        "# final フォルダーリセット\n",
        "if os.path.isdir('final'):\n",
        "    shutil.rmtree('final') \n",
        "os.makedirs('final', exist_ok=True)\n",
        "\n",
        "for i in range(num):\n",
        "  files = os.listdir('./output/'+str(i).zfill(6)+'/process')\n",
        "  files.sort()\n",
        "  file = files[-1]\n",
        "  print(str(i).zfill(6), file)\n",
        "  shutil.copy('./output/'+str(i).zfill(6)+'/process/'+file, './final/'+str(i).zfill(6)+'.jpg')"
      ],
      "execution_count": null,
      "outputs": []
    },
    {
      "cell_type": "code",
      "metadata": {
        "id": "tDvRo0QjM7F7"
      },
      "source": [
        "# スケッチ画から動画を作成（モノクロ）\n",
        "# output.mp4  削除\n",
        "if os.path.exists('./output.mp4'):\n",
        "   os.remove('./output.mp4')\n",
        "\n",
        "!ffmpeg -r 10 -i final/%06d.jpg -vcodec libx264 -pix_fmt yuv420p output.mp4"
      ],
      "execution_count": null,
      "outputs": []
    },
    {
      "cell_type": "code",
      "metadata": {
        "id": "M2VqTplVIvQI"
      },
      "source": [
        "# mp4動画の再生再生（モノクロ）\n",
        "from IPython.display import HTML\n",
        "from base64 import b64encode\n",
        "\n",
        "mp4 = open('./output.mp4', 'rb').read()\n",
        "data_url = 'data:video/mp4;base64,' + b64encode(mp4).decode()\n",
        "HTML(f\"\"\"\n",
        "<video width=\"100%\" height=\"100%\" controls>\n",
        "      <source src=\"{data_url}\" type=\"video/mp4\">\n",
        "</video>\"\"\")"
      ],
      "execution_count": null,
      "outputs": []
    },
    {
      "cell_type": "markdown",
      "metadata": {
        "id": "XUIDs-k1I8gn"
      },
      "source": [
        "## カラー動画の作成"
      ]
    },
    {
      "cell_type": "code",
      "metadata": {
        "id": "0_rpq_AdHFuA"
      },
      "source": [
        "# スケッチ画を集約（カラー）\n",
        "import os\n",
        "import shutil\n",
        "\n",
        "# final フォルダーリセット\n",
        "if os.path.isdir('finalc'):\n",
        "    shutil.rmtree('finalc') \n",
        "os.makedirs('finalc', exist_ok=True)\n",
        "\n",
        "for i in range(num):\n",
        "  shutil.copy('./output/'+str(i).zfill(6)+'/result_RGB.jpg', './finalc/'+str(i).zfill(6)+'.jpg')"
      ],
      "execution_count": null,
      "outputs": []
    },
    {
      "cell_type": "code",
      "metadata": {
        "id": "6eZcxQADGwv_"
      },
      "source": [
        "# スケッチ画から動画を作成（カラー）\n",
        "# output.mp4  削除\n",
        "if os.path.exists('./outputc.mp4'):\n",
        "   os.remove('./outputc.mp4')\n",
        "\n",
        "!ffmpeg -r 10 -i finalc/%06d.jpg -vcodec libx264 -pix_fmt yuv420p outputc.mp4"
      ],
      "execution_count": null,
      "outputs": []
    },
    {
      "cell_type": "code",
      "metadata": {
        "id": "qgt0jPE9I5M3"
      },
      "source": [
        "# mp4動画の再生再生（カラー）\n",
        "from IPython.display import HTML\n",
        "from base64 import b64encode\n",
        "\n",
        "mp4 = open('./outputc.mp4', 'rb').read()\n",
        "data_url = 'data:video/mp4;base64,' + b64encode(mp4).decode()\n",
        "HTML(f\"\"\"\n",
        "<video width=\"100%\" height=\"100%\" controls>\n",
        "      <source src=\"{data_url}\" type=\"video/mp4\">\n",
        "</video>\"\"\")"
      ],
      "execution_count": null,
      "outputs": []
    }
  ]
}